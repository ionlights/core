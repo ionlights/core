{
 "cells": [
  {
   "cell_type": "markdown",
   "metadata": {
    "tags": [
     "nb-title",
     "template"
    ],
    "title": "A Walk Through the Random Forest"
   },
   "source": [
    "<img src=\"https://ucfai.org/core/sp20/rf-svm/banner.png\">\n",
    "\n",
    "<div class=\"col-12\">\n",
    "    <h1> A Walk Through the Random Forest </h1>\n",
    "    <hr>\n",
    "</div>\n",
    "\n",
    "<div style=\"line-height: 2em;\">\n",
    "    <p>by: \n",
    "        <a href=\"https://ucfai.org/authors/JarvisEQ\">@JarvisEQ</a>\n",
    "        and\n",
    "        \n",
    "        <a href=\"https://ucfai.org/authors/nspeer12\">@nspeer12</a>\n",
    "        \n",
    "         on Jan 29, 2020</p>\n",
    "</div>"
   ]
  },
  {
   "cell_type": "code",
   "execution_count": null,
   "metadata": {
    "language": "python",
    "tags": [
     "template"
    ]
   },
   "outputs": [],
   "source": [
    "from pathlib import Path\n",
    "\n",
    "DATA_DIR = Path(\"/kaggle/input\")\n",
    "if (DATA_DIR / \"ucfai-core-sp20-rf-svm\").exists():\n",
    "    DATA_DIR /= \"ucfai-core-sp20-rf-svm\"\n",
    "else:\n",
    "    # You'll need to download the data from Kaggle and place it in the `data/`\n",
    "    #   directory beside this notebook.\n",
    "    # The data should be here: https://kaggle.com/c/ucfai-core-sp20-rf-svm/data\n",
    "    DATA_DIR = Path(\"data\")"
   ]
  }
 ],
 "metadata": {
  "autobot": {
   "abstract": "In this lecture, we explore powerful yet lightweight models that are often overlooked. We will see the power of combining multiple simple models together and how they can yield amazing results. You won't believe how easy it is to classify with just a line!",
   "authors": [
    "JarvisEQ",
    "nspeer12"
   ],
   "date": "2020-01-29T17:30:00",
   "group": "core",
   "semester": "sp20",
   "tags": [
    "Random Forests",
    "SVMs",
    "Nearest Neighbors"
   ],
   "title": "A Walk Through the Random Forest"
  }
 },
 "nbformat": 4,
 "nbformat_minor": 4
}
